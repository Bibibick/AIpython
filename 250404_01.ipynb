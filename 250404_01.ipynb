{
  "nbformat": 4,
  "nbformat_minor": 0,
  "metadata": {
    "colab": {
      "provenance": []
    },
    "kernelspec": {
      "name": "python3",
      "display_name": "Python 3"
    },
    "language_info": {
      "name": "python"
    }
  },
  "cells": [
    {
      "cell_type": "code",
      "execution_count": 1,
      "metadata": {
        "colab": {
          "base_uri": "https://localhost:8080/"
        },
        "id": "aT1En4G7vTux",
        "outputId": "bd47d552-2615-478b-f283-ae93c721176a"
      },
      "outputs": [
        {
          "output_type": "stream",
          "name": "stdout",
          "text": [
            "온도 종류(섭씨 또는 화씨) : 화씨\n",
            "화씨온도 : 99\n",
            "섭씨 온도 37.22222222222222\n"
          ]
        }
      ],
      "source": [
        "#섭씨 화씨 온도 변환기\n",
        "\n",
        "kind = input(\"온도 종류(섭씨 또는 화씨) : \")\n",
        "temp = int(input(kind+\"온도 : \"))\n",
        "\n",
        "if kind == \"섭씨\":\n",
        "  print(f\"화씨 온도 {temp*9/5/+32}\")\n",
        "else:\n",
        "  print(f\"섭씨 온도 {(temp-32)*5/9}\")"
      ]
    },
    {
      "cell_type": "code",
      "source": [
        "#섭씨 화씨 온도 변환기\n",
        "\n",
        "kind = input(\"온도 종류(섭씨 또는 화씨) : \")\n",
        "temp = int(input(kind+\"온도 : \"))\n",
        "\n",
        "if kind == \"섭씨\":\n",
        "  print(\"화씨 온도 : %.2f\"%(temp*9/5/+32))\n",
        "else:\n",
        "  print(\"섭씨 온도 : %.2f\" %((temp-32)*5/9))"
      ],
      "metadata": {
        "colab": {
          "base_uri": "https://localhost:8080/"
        },
        "id": "xVblSwNGvXlX",
        "outputId": "36c22987-6f11-481a-918e-16fed8ef3371"
      },
      "execution_count": 2,
      "outputs": [
        {
          "output_type": "stream",
          "name": "stdout",
          "text": [
            "온도 종류(섭씨 또는 화씨) : 섭씨\n",
            "섭씨온도 : 45\n",
            "화씨 온도 : 2.53\n"
          ]
        }
      ]
    },
    {
      "cell_type": "code",
      "source": [
        "#숫자 맞히기 게임\n",
        "\n",
        "import random\n",
        "\n",
        "print(\"1부터 100까지의 수 하나를 정했습니다.\")\n",
        "print(\"이 숫자를 맞혀보세요.\")\n",
        "\n",
        "answer = random.randint(1,100) #''.'이라는 것은 random 모듈안에 있는!'으로 해석하면 됨\n",
        "times = 0\n",
        "\n",
        "while True:\n",
        "  user = int(input(\"1~100 숫자 입력 : \"))\n",
        "  times += 1\n",
        "  if user == answer:\n",
        "    print(\"정답입니다.\")\n",
        "    break\n",
        "  elif user > answer:\n",
        "    print(f\"{user}보다 작습니다.\")\n",
        "  else:\n",
        "    print(f\"{user}보다 큽니다.\")\n",
        "\n",
        "print(f\"{times}번 만에 맞혔습니다.\")"
      ],
      "metadata": {
        "colab": {
          "base_uri": "https://localhost:8080/"
        },
        "id": "vTxL5V02vZmz",
        "outputId": "f6fa2acf-aa9c-4ea8-a4a4-3887cd172bf8"
      },
      "execution_count": 3,
      "outputs": [
        {
          "output_type": "stream",
          "name": "stdout",
          "text": [
            "1부터 100까지의 수 하나를 정했습니다.\n",
            "이 숫자를 맞혀보세요.\n",
            "1~100 숫자 입력 : 50\n",
            "50보다 작습니다.\n",
            "1~100 숫자 입력 : 30\n",
            "30보다 작습니다.\n",
            "1~100 숫자 입력 : 20\n",
            "20보다 큽니다.\n",
            "1~100 숫자 입력 : 24\n",
            "24보다 큽니다.\n",
            "1~100 숫자 입력 : 46\n",
            "46보다 작습니다.\n",
            "1~100 숫자 입력 : 26\n",
            "정답입니다.\n",
            "6번 만에 맞혔습니다.\n"
          ]
        }
      ]
    },
    {
      "cell_type": "code",
      "source": [
        "lottery = []\n",
        "\n",
        "for i in range(6):\n",
        "  num = random.randint(1,45)\n",
        "  lottery.append(num)\n",
        "print(lottery)"
      ],
      "metadata": {
        "colab": {
          "base_uri": "https://localhost:8080/"
        },
        "id": "TGMultmovpGX",
        "outputId": "7999ff1b-aaa4-4d35-d2cf-7a01efa38600"
      },
      "execution_count": 5,
      "outputs": [
        {
          "output_type": "stream",
          "name": "stdout",
          "text": [
            "[22, 16, 11, 21, 6, 15]\n"
          ]
        }
      ]
    },
    {
      "cell_type": "code",
      "source": [
        "성적 = [85, 92, 78, 90, 87]\n",
        "평균 = sum(성적) / len(성적)  # 86.4"
      ],
      "metadata": {
        "id": "Lcjjp1hGv3XO"
      },
      "execution_count": 7,
      "outputs": []
    },
    {
      "cell_type": "code",
      "source": [
        "score = [85, 92, 78, 90, 87]\n",
        "\n",
        "total = 0\n",
        "length = 0\n",
        "for i in score:\n",
        "  total += i\n",
        "  length += 1\n",
        "print(total/length)"
      ],
      "metadata": {
        "id": "4yimK2Umv4HM"
      },
      "execution_count": null,
      "outputs": []
    },
    {
      "cell_type": "code",
      "source": [
        "fruits = [\"사과\", \"바나나\", \"딸기\", \"포도\"]\n",
        "print(f\"과일 리스트 : {fruits}\")\n",
        "\n",
        "first_fruit = fruits[0]\n",
        "print(f\"첫 번째 과일 : {first_fruit}\")\n",
        "\n",
        "last_fruit = fruits[-1]\n",
        "print(f\"마지막 과일 : {last_fruit}\")\n",
        "\n",
        "fruits.append(\"오렌지\")\n",
        "print(fruits)\n",
        "\n",
        "fruits.remove(\"바나나\")\n",
        "print(fruits)"
      ],
      "metadata": {
        "colab": {
          "base_uri": "https://localhost:8080/"
        },
        "id": "0v-KCP-Av6JV",
        "outputId": "36bf2977-ad91-4576-efc8-cf28758dbb32"
      },
      "execution_count": 8,
      "outputs": [
        {
          "output_type": "stream",
          "name": "stdout",
          "text": [
            "과일 리스트 : ['사과', '바나나', '딸기', '포도']\n",
            "첫 번째 과일 : 사과\n",
            "마지막 과일 : 포도\n",
            "['사과', '바나나', '딸기', '포도', '오렌지']\n",
            "['사과', '딸기', '포도', '오렌지']\n"
          ]
        }
      ]
    },
    {
      "cell_type": "code",
      "source": [
        "nums = [1, 40, 52, 33, 90]\n",
        "\n",
        "for i in nums:\n",
        "  print(i)"
      ],
      "metadata": {
        "colab": {
          "base_uri": "https://localhost:8080/"
        },
        "id": "0KmHHcrVxG2R",
        "outputId": "cc469950-89a2-4cc8-d302-aa8876c4f1e7"
      },
      "execution_count": 9,
      "outputs": [
        {
          "output_type": "stream",
          "name": "stdout",
          "text": [
            "1\n",
            "40\n",
            "52\n",
            "33\n",
            "90\n"
          ]
        }
      ]
    },
    {
      "cell_type": "code",
      "source": [
        "colors = [\"빨강\", \"초록\", \"파랑\"]\n",
        "print(colors)\n",
        "\n",
        "colors[1] = \"노랑\"\n",
        "print(colors)"
      ],
      "metadata": {
        "colab": {
          "base_uri": "https://localhost:8080/"
        },
        "id": "3D6VKWfPxJE4",
        "outputId": "5b0fe535-57e0-4eaf-925a-d4cfeca2da5e"
      },
      "execution_count": 10,
      "outputs": [
        {
          "output_type": "stream",
          "name": "stdout",
          "text": [
            "['빨강', '초록', '파랑']\n",
            "['빨강', '노랑', '파랑']\n"
          ]
        }
      ]
    },
    {
      "cell_type": "code",
      "source": [
        "list1 = [3, 5, 6]\n",
        "list2 = [7, 9, 1]\n",
        "\n",
        "comlist = list1+list2\n",
        "print(comlist)\n",
        "\n",
        "list1.extend(list2)\n",
        "print(list1)"
      ],
      "metadata": {
        "id": "3SDv4puYxL17",
        "outputId": "630d4943-d0dc-4ead-ae5a-c3872077124d",
        "colab": {
          "base_uri": "https://localhost:8080/"
        }
      },
      "execution_count": 11,
      "outputs": [
        {
          "output_type": "stream",
          "name": "stdout",
          "text": [
            "[3, 5, 6, 7, 9, 1]\n",
            "[3, 5, 6, 7, 9, 1]\n"
          ]
        }
      ]
    }
  ]
}
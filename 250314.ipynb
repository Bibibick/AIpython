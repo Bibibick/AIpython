{
  "nbformat": 4,
  "nbformat_minor": 0,
  "metadata": {
    "colab": {
      "provenance": []
    },
    "kernelspec": {
      "name": "python3",
      "display_name": "Python 3"
    },
    "language_info": {
      "name": "python"
    }
  },
  "cells": [
    {
      "cell_type": "code",
      "execution_count": 14,
      "metadata": {
        "colab": {
          "base_uri": "https://localhost:8080/"
        },
        "id": "8U2Cf0YVdGwp",
        "outputId": "c808dd74-8382-487e-899f-2b30cf6b6842"
      },
      "outputs": [
        {
          "output_type": "stream",
          "name": "stdout",
          "text": [
            "반지름이 5인 원의 면적은 78.5398 입니다\n"
          ]
        }
      ],
      "source": [
        "# 문제1. 반지름이 5인 원의 면적을 구하시오\n",
        "r = 5\n",
        "circle = r*r*3.141592\n",
        "\n",
        "print(\"반지름이\",str(r)+\"인 원의 면적은\",circle,\"입니다\")"
      ]
    },
    {
      "cell_type": "code",
      "source": [
        "# 문제2. 분(정수)을 시간과 분으로 변환하여 출력하시오\n",
        "min = 100\n",
        "hour = min//60\n",
        "minute = min%60\n",
        "\n",
        "print(str(min)+\"분은\",str(hour)+\"시간\",str(minute)+\"분 입니다.\")"
      ],
      "metadata": {
        "colab": {
          "base_uri": "https://localhost:8080/"
        },
        "id": "5xzX8h9Ld6_4",
        "outputId": "20517122-78f9-4ec4-f55f-aae7f345ae7b"
      },
      "execution_count": 16,
      "outputs": [
        {
          "output_type": "stream",
          "name": "stdout",
          "text": [
            "100분은 1시간 40분 입니다.\n"
          ]
        }
      ]
    }
  ]
}
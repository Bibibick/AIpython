{
  "nbformat": 4,
  "nbformat_minor": 0,
  "metadata": {
    "colab": {
      "provenance": []
    },
    "kernelspec": {
      "name": "python3",
      "display_name": "Python 3"
    },
    "language_info": {
      "name": "python"
    }
  },
  "cells": [
    {
      "cell_type": "code",
      "execution_count": 3,
      "metadata": {
        "colab": {
          "base_uri": "https://localhost:8080/"
        },
        "id": "Nt6DCtFITHTi",
        "outputId": "52777ff9-6e50-485e-89dc-d63f01ab6908"
      },
      "outputs": [
        {
          "output_type": "stream",
          "name": "stdout",
          "text": [
            "첫 번째 정수를 입력하세요 : 3\n",
            "두 번째 정수를 입력하세요 : 4\n",
            "3은(는) 4보다 작습니다.\n"
          ]
        }
      ],
      "source": [
        "# 문제 1: 두 수 비교하기\n",
        "\n",
        "num1 = int(input(\"첫 번째 정수를 입력하세요 : \"))\n",
        "num2 = int(input(\"두 번째 정수를 입력하세요 : \"))\n",
        "\n",
        "if(num1 > num2):\n",
        "  print(f\"{num1}은(는) {num2}보다 큽니다.\")\n",
        "elif(num1 < num2):\n",
        "  print(f\"{num1}은(는) {num2}보다 작습니다.\")\n",
        "else:\n",
        "  print(f\"{num1}은(는) {num2}와 같습니다.\")"
      ]
    },
    {
      "cell_type": "code",
      "source": [
        "# 문제 2: 세 수 중 가장 큰 수 찾기\n",
        "\n",
        "num1 = int(input(\"첫 번째 정수를 입력하세요 : \"))\n",
        "num2 = int(input(\"두 번째 정수를 입력하세요 : \"))\n",
        "num3 = int(input(\"세 번째 정수를 입력하세요 : \"))\n",
        "\n",
        "max_num = num1\n",
        "\n",
        "if(max_num < num2):\n",
        "  max_num = num2\n",
        "if(max_num < num3): #여기서 elif를 쓰면 밑에거가 실행이 안될수가 있다.\n",
        "  max_num = num3\n",
        "\n",
        "print(f\"\\n입력하신 세 수 {num1}, {num2}, {num3} 중에서 가장 큰 수는 {max_num}입니다.\")\n"
      ],
      "metadata": {
        "colab": {
          "base_uri": "https://localhost:8080/"
        },
        "id": "zFKWBlq0XFeG",
        "outputId": "1566b1dc-44c5-4779-ab4a-bfe71edbc69d"
      },
      "execution_count": 9,
      "outputs": [
        {
          "output_type": "stream",
          "name": "stdout",
          "text": [
            "첫 번째 정수를 입력하세요 : 4\n",
            "두 번째 정수를 입력하세요 : 6\n",
            "세 번째 정수를 입력하세요 : 2\n",
            "\n",
            "입력하신 세 수 4, 6, 2 중에서 가장 큰 수는 6입니다.\n"
          ]
        }
      ]
    },
    {
      "cell_type": "code",
      "source": [
        "# 문제 3: 학점 판별하기\n",
        "\n",
        "score = int(input(\"시험 점수 (0~100)를 입력하세요 : \"))\n",
        "if(0 <= score <= 100): #중첩 구조\n",
        "  if(score >= 90):\n",
        "    grade = \"A\"\n",
        "  elif(score >= 80):\n",
        "    grade = \"B\"\n",
        "  elif(score >= 70):\n",
        "    grade = \"C\"\n",
        "  elif(score >= 60):\n",
        "    grade = \"D\"\n",
        "  else:\n",
        "    grade = \"F\"\n",
        "  print(f\"당신의 학점은 {grade}입니다.\")\n",
        "else:\n",
        "  print(\"점수는 0부터 100사이의 값이어야 합니다.\")"
      ],
      "metadata": {
        "colab": {
          "base_uri": "https://localhost:8080/"
        },
        "id": "ZL2ceBxYanit",
        "outputId": "b22bdc94-ea1e-4298-b55f-f5daff002f76"
      },
      "execution_count": 18,
      "outputs": [
        {
          "output_type": "stream",
          "name": "stdout",
          "text": [
            "시험 점수 (0~100)를 입력하세요 : 66\n",
            "당신의 학점은 D입니다.\n"
          ]
        }
      ]
    },
    {
      "cell_type": "code",
      "source": [
        "# 문제 4: 윤년 판별하기\n",
        "\n",
        "year = int(input(\"연도를 입력하세요 : \"))\n",
        "if(year%4 == 0 and year%100 != 0 or year%400 == 0):\n",
        "  print(f\"{year}년은 윤년입니다.\")\n",
        "else:\n",
        "  print(f\"{year}년은 윤년이 아닙니다.\")"
      ],
      "metadata": {
        "colab": {
          "base_uri": "https://localhost:8080/"
        },
        "id": "xZKsRwpFd0v2",
        "outputId": "f5995003-e7c3-4a90-84e4-ff23ec943e38"
      },
      "execution_count": 23,
      "outputs": [
        {
          "output_type": "stream",
          "name": "stdout",
          "text": [
            "연도를 입력하세요 : 2020\n",
            "2020년은 윤년입니다.\n"
          ]
        }
      ]
    },
    {
      "cell_type": "code",
      "source": [
        "for i in range(1,6): # 이 range부분을 시퀀스라고 함\n",
        "  print(\"반복!\",i)"
      ],
      "metadata": {
        "colab": {
          "base_uri": "https://localhost:8080/"
        },
        "id": "s3CZF_uwk8s2",
        "outputId": "50faf274-319c-49cf-caf9-f2e764b9408f"
      },
      "execution_count": 31,
      "outputs": [
        {
          "output_type": "stream",
          "name": "stdout",
          "text": [
            "반복! 1\n",
            "반복! 2\n",
            "반복! 3\n",
            "반복! 4\n",
            "반복! 5\n"
          ]
        }
      ]
    },
    {
      "cell_type": "code",
      "source": [
        "for i in range(5):\n",
        "  print(\"반복!\",(i+1))"
      ],
      "metadata": {
        "colab": {
          "base_uri": "https://localhost:8080/"
        },
        "id": "HMAl8AcQl5b6",
        "outputId": "c6183133-24a2-41e1-f387-e386a69d3923"
      },
      "execution_count": 32,
      "outputs": [
        {
          "output_type": "stream",
          "name": "stdout",
          "text": [
            "반복! 1\n",
            "반복! 2\n",
            "반복! 3\n",
            "반복! 4\n",
            "반복! 5\n"
          ]
        }
      ]
    },
    {
      "cell_type": "code",
      "source": [
        "for i in range(1, 10, 2):  # 스텝식 스텝이 없으면 그냥 1이 생략된것이라고 보면 됨\n",
        "  print(\"반복!\",i)"
      ],
      "metadata": {
        "colab": {
          "base_uri": "https://localhost:8080/"
        },
        "id": "UAUJ-m2CmUQE",
        "outputId": "7e1019e9-3d2a-4128-ddfb-c8a7a770d126"
      },
      "execution_count": 33,
      "outputs": [
        {
          "output_type": "stream",
          "name": "stdout",
          "text": [
            "반복! 1\n",
            "반복! 3\n",
            "반복! 5\n",
            "반복! 7\n",
            "반복! 9\n"
          ]
        }
      ]
    },
    {
      "cell_type": "code",
      "source": [
        "for i in [1,2,3,4,5]: #list 숫자도 문자도 문자열도 다 들어올 수 있음 (중요한 자료구조)\n",
        "  print(\"반복!\",i)"
      ],
      "metadata": {
        "colab": {
          "base_uri": "https://localhost:8080/"
        },
        "id": "VMhbR7K4mbd7",
        "outputId": "0606118d-7667-4fca-821d-fca407030d8f"
      },
      "execution_count": 34,
      "outputs": [
        {
          "output_type": "stream",
          "name": "stdout",
          "text": [
            "반복! 1\n",
            "반복! 2\n",
            "반복! 3\n",
            "반복! 4\n",
            "반복! 5\n"
          ]
        }
      ]
    },
    {
      "cell_type": "code",
      "source": [
        "# 문제 1: 1부터 N까지의 합 계산하기\n",
        "\n",
        "n = int(input(\"양의 정수 N을 입력하세요 : \"))\n",
        "total = 0\n",
        "for i in range(1,n+1):\n",
        "  total += i\n",
        "print(f\"1부터 {n}까지의 합은 : {total} 입니다.\")"
      ],
      "metadata": {
        "colab": {
          "base_uri": "https://localhost:8080/"
        },
        "id": "tpPJuHcCgsZ5",
        "outputId": "6d483687-8dd9-4a2b-d79b-89cbaf916d39"
      },
      "execution_count": 39,
      "outputs": [
        {
          "output_type": "stream",
          "name": "stdout",
          "text": [
            "양의 정수 N을 입력하세요 : 40405\n",
            "1부터 40405까지의 합은 : 816302215 입니다.\n"
          ]
        }
      ]
    },
    {
      "cell_type": "code",
      "source": [
        "# 문제 4: 특정 조건까지 반복하기 (while 루프)\n",
        "\n",
        "count = 0\n",
        "print(\"0부터 9까지 출력\")\n",
        "while count < 10:\n",
        "  print(count)\n",
        "  count += 1\n",
        "print(\"while 루프 종료\")"
      ],
      "metadata": {
        "colab": {
          "base_uri": "https://localhost:8080/"
        },
        "id": "qmxAJHQTonGa",
        "outputId": "4aeb5c59-4a34-42cc-ced4-6b0d32804883"
      },
      "execution_count": 41,
      "outputs": [
        {
          "output_type": "stream",
          "name": "stdout",
          "text": [
            "0부터 9까지 출력\n",
            "0\n",
            "1\n",
            "2\n",
            "3\n",
            "4\n",
            "5\n",
            "6\n",
            "7\n",
            "8\n",
            "9\n",
            "while 루프 종료\n"
          ]
        }
      ]
    },
    {
      "cell_type": "code",
      "source": [
        "# 문제 4: 특정 조건까지 반복하기 (for로 변환)\n",
        "\n",
        "print(\"0부터 9까지 출력\")\n",
        "for i in range (10):\n",
        "  print(i)\n",
        "print(\"for문 종료\")"
      ],
      "metadata": {
        "colab": {
          "base_uri": "https://localhost:8080/"
        },
        "id": "T13n-w_GsGKW",
        "outputId": "187e3006-6b4b-4c9c-fa84-8cf470698939"
      },
      "execution_count": 45,
      "outputs": [
        {
          "output_type": "stream",
          "name": "stdout",
          "text": [
            "0부터 9까지 출력\n",
            "0\n",
            "1\n",
            "2\n",
            "3\n",
            "4\n",
            "5\n",
            "6\n",
            "7\n",
            "8\n",
            "9\n",
            "for문 종료\n"
          ]
        }
      ]
    }
  ]
}
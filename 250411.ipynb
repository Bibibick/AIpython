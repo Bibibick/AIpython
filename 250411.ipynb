{
  "nbformat": 4,
  "nbformat_minor": 0,
  "metadata": {
    "colab": {
      "provenance": []
    },
    "kernelspec": {
      "name": "python3",
      "display_name": "Python 3"
    },
    "language_info": {
      "name": "python"
    }
  },
  "cells": [
    {
      "cell_type": "markdown",
      "source": [
        "s = ['a', 'b', 'c']\n",
        "s = 'abc'\n",
        "이것의 접근 방식은 동일함\n",
        "\n",
        "end=‘’은 연속해서 옆으로 찍어주는 역할을 한다\n",
        "이게 없으면 아래로 찍힘 자주 나오니 잘 기억하도록!\n",
        "\n",
        "print(s, end='')이런식으로 줘야함!"
      ],
      "metadata": {
        "id": "Ogm56ujOeHJm"
      }
    },
    {
      "cell_type": "code",
      "source": [
        "id = '040112-4444444'\n",
        "\n",
        "if id[7] == '4' or id[7] == '2':\n",
        "  print(\"여자입니다.\")\n",
        "elif id[7] == '3' or id[7] == '1':\n",
        "  print(\"남자입니다.\")\n",
        "else:\n",
        "  print(\"제대로 입력해주세요\")"
      ],
      "metadata": {
        "colab": {
          "base_uri": "https://localhost:8080/"
        },
        "id": "VDLH8zppgDOn",
        "outputId": "4359f233-ebc1-466d-b7e1-bbf261f61baa"
      },
      "execution_count": 7,
      "outputs": [
        {
          "output_type": "stream",
          "name": "stdout",
          "text": [
            "여자입니다.\n"
          ]
        }
      ]
    },
    {
      "cell_type": "code",
      "source": [
        "s1 = input(\"문자열 : \")\n",
        "s2 = \"\"\n",
        "\n",
        "for i in range(len(s1)-1, -1, -1):\n",
        "  s2 += s1[i]\n",
        "if(s1 == s2):\n",
        "  print(\"회문입니다.\")\n",
        "else:\n",
        "  print(\"회문이 아닙니다.\")"
      ],
      "metadata": {
        "colab": {
          "base_uri": "https://localhost:8080/"
        },
        "id": "k0Xwwofdi_9_",
        "outputId": "9d4788e7-9ad8-43f1-fbec-6166bd1a1106"
      },
      "execution_count": 9,
      "outputs": [
        {
          "output_type": "stream",
          "name": "stdout",
          "text": [
            "문자열 : hilih\n",
            "회문입니다.\n"
          ]
        }
      ]
    },
    {
      "cell_type": "code",
      "source": [
        "s = \"부산시 금정구\"\n",
        "print(s.split(' '))\n",
        "p = s.split(' ')\n",
        "\n",
        "print('!'.join(p))"
      ],
      "metadata": {
        "colab": {
          "base_uri": "https://localhost:8080/"
        },
        "id": "_tZoZ6vboYB2",
        "outputId": "49eda60a-0c69-4b90-9196-3f09be7d1f44"
      },
      "execution_count": 12,
      "outputs": [
        {
          "output_type": "stream",
          "name": "stdout",
          "text": [
            "['부산시', '금정구']\n",
            "부산시!금정구\n"
          ]
        }
      ]
    },
    {
      "cell_type": "code",
      "source": [
        "#문제 : 사용자로부터 프롬프트를 입력받으시오 하고 문자 숫자 섞여있으면 통과 아니면 다시 입력받도록 만들어보기\n",
        "\n",
        "prompt = input(\"문자와 숫자를 섞어 비밀번호를 입력해주세요 : \")\n",
        "\n",
        "while True:\n",
        "  if(prompt.isdigit()):\n",
        "    print(\"다시 입력해주세요!\")\n",
        "    prompt = input(\"문자와 숫자를 섞어 비밀번호를 입력해주세요 : \")\n",
        "  elif(prompt.isalpha()):\n",
        "    print(\"다시 입력해주세요!\")\n",
        "    prompt = input(\"문자와 숫자를 섞어 비밀번호를 입력해주세요 : \")\n",
        "  elif(prompt.isalnum):\n",
        "    print(\"통과입니다!\")\n",
        "    break"
      ],
      "metadata": {
        "colab": {
          "base_uri": "https://localhost:8080/"
        },
        "id": "IcyRvTq1qLrT",
        "outputId": "ba2080c1-9a73-40cf-bb71-cfec2138c33a"
      },
      "execution_count": 19,
      "outputs": [
        {
          "output_type": "stream",
          "name": "stdout",
          "text": [
            "문자와 숫자를 섞어 비밀번호를 입력해주세요 : ㅇㅇㅇ\n",
            "다시 입력해주세요!\n",
            "문자와 숫자를 섞어 비밀번호를 입력해주세요 : jflkw\n",
            "다시 입력해주세요!\n",
            "문자와 숫자를 섞어 비밀번호를 입력해주세요 : jlkjlk3\n",
            "통과입니다!\n"
          ]
        }
      ]
    },
    {
      "cell_type": "markdown",
      "source": [
        "튜플!\n",
        "\n",
        "<리스트와 튜플의 차이>\n",
        "\n",
        "1) 리스트는 '['와 ']'를 사용하는 반면 튜플은 '('와')'를 사용한다.\n",
        "2) 리스트는 리스트 내의 원소를 변경할 수 있지만 튜플은 변경할 수 없다.\n",
        "\n",
        "리스트와 튜플은 값만 가지고 있는 반면 딕셔너리는 키를 가지고 있음"
      ],
      "metadata": {
        "id": "K32TE4GXsUiK"
      }
    }
  ]
}
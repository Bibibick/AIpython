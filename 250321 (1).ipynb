{
 "cells": [
  {
   "cell_type": "code",
   "execution_count": 1,
   "id": "f74b9314-b19f-40c4-84c0-6c184ef12598",
   "metadata": {},
   "outputs": [
    {
     "name": "stdin",
     "output_type": "stream",
     "text": [
      "나이를 입력하세요 :  10\n"
     ]
    },
    {
     "name": "stdout",
     "output_type": "stream",
     "text": [
      "당신은 내년에 11 살입니다.\n"
     ]
    }
   ],
   "source": [
    "age = input(\"나이를 입력하세요 : \")\n",
    "age = int(age)\n",
    "print(\"당신은 내년에\",age+1,\"살입니다.\")"
   ]
  },
  {
   "cell_type": "code",
   "execution_count": 3,
   "id": "6f0ff6fa-15d7-4929-87d1-a3297d324a21",
   "metadata": {},
   "outputs": [
    {
     "name": "stdin",
     "output_type": "stream",
     "text": [
      "나이를 입력하세요 :  22\n"
     ]
    },
    {
     "name": "stdout",
     "output_type": "stream",
     "text": [
      "당신은 내년에 23 살입니다.\n"
     ]
    }
   ],
   "source": [
    "age = input(\"나이를 입력하세요 : \")\n",
    "age = int(age)\n",
    "age = age + 1\n",
    "print(\"당신은 내년에\",age,\"살입니다.\") #출력하기 전에 연산을 다 끝내는 것이 좋다"
   ]
  },
  {
   "cell_type": "code",
   "execution_count": 13,
   "id": "4ddc9420-485a-487d-95fb-7f3d6f10c55c",
   "metadata": {},
   "outputs": [],
   "source": [
    "# age = input(\"나이를 입력하세요 : \")\n",
    "# # age = int(age)\n",
    "# print(\"당신은 내년에\",age+1,\"살입니다.\")"
   ]
  },
  {
   "cell_type": "code",
   "execution_count": 5,
   "id": "a9b4fd6e-66dd-4634-9e11-dc760735493a",
   "metadata": {},
   "outputs": [
    {
     "name": "stdin",
     "output_type": "stream",
     "text": [
      "나이를 입력하세요 :  55\n"
     ]
    },
    {
     "name": "stdout",
     "output_type": "stream",
     "text": [
      "당신은 내년에 56 살입니다.\n"
     ]
    }
   ],
   "source": [
    "age = int(input(\"나이를 입력하세요 : \"))\n",
    "print(\"당신은 내년에\",age+1,\"살입니다.\")"
   ]
  },
  {
   "cell_type": "code",
   "execution_count": 8,
   "id": "988e5b6b-53b9-4d20-bc22-c971dfc222d7",
   "metadata": {},
   "outputs": [
    {
     "name": "stdin",
     "output_type": "stream",
     "text": [
      "나이를 입력하세요 :  22\n"
     ]
    },
    {
     "name": "stdout",
     "output_type": "stream",
     "text": [
      "당신은 내년에 23.5 살입니다.\n"
     ]
    }
   ],
   "source": [
    "age = int(input(\"나이를 입력하세요 : \"))\n",
    "print(\"당신은 내년에\",age+1.5,\"살입니다.\") #자연스럽게 형변환이 되기도 하고 강제적으로 형변환을 시킬 수도 있음"
   ]
  },
  {
   "cell_type": "code",
   "execution_count": 7,
   "id": "414398f7-850a-481c-afcc-e4a3c843d326",
   "metadata": {},
   "outputs": [
    {
     "name": "stdin",
     "output_type": "stream",
     "text": [
      "나이를 입력하세요 :  22\n"
     ]
    },
    {
     "name": "stdout",
     "output_type": "stream",
     "text": [
      "당신은 내년에 22살입니다.\n"
     ]
    }
   ],
   "source": [
    "age = int(input(\"나이를 입력하세요 : \"))\n",
    "print(\"당신은 내년에\",str(age)+\"살입니다.\")"
   ]
  },
  {
   "cell_type": "code",
   "execution_count": 12,
   "id": "d4688800-9e5f-4414-a6d4-a9922fe91e7e",
   "metadata": {},
   "outputs": [
    {
     "name": "stdin",
     "output_type": "stream",
     "text": [
      "숫자를 입력해주세요 :  0\n"
     ]
    },
    {
     "name": "stdout",
     "output_type": "stream",
     "text": [
      "0 입니다!\n"
     ]
    }
   ],
   "source": [
    "#입력한 숫자의 양수/음수 여부 판단\n",
    "\n",
    "num = int(input(\"숫자를 입력해주세요 : \"))\n",
    "if(num < 0):\n",
    "    print(\"음수입니다!\")\n",
    "elif(num > 0):\n",
    "    print(\"양수입니다!\")\n",
    "else:\n",
    "    print(\"0 입니다!\")"
   ]
  },
  {
   "cell_type": "code",
   "execution_count": 18,
   "id": "5920be06-398f-4244-bd29-3047ab4ec28b",
   "metadata": {},
   "outputs": [
    {
     "name": "stdin",
     "output_type": "stream",
     "text": [
      "숫자를 입력해주세요 :  22\n"
     ]
    },
    {
     "name": "stdout",
     "output_type": "stream",
     "text": [
      "짝수입니다!\n"
     ]
    }
   ],
   "source": [
    "# 입력한 숫자의 짝수/홀수여부 판단\n",
    "\n",
    "num = int(input(\"숫자를 입력해주세요 : \"))\n",
    "if(num%2 == 1):\n",
    "    print(\"홀수입니다!\")\n",
    "else:\n",
    "    print(\"짝수입니다!\")"
   ]
  },
  {
   "cell_type": "code",
   "execution_count": 19,
   "id": "e9ad56de-854b-4693-9443-d30d17f80356",
   "metadata": {},
   "outputs": [
    {
     "name": "stdin",
     "output_type": "stream",
     "text": [
      " 2 2\n"
     ]
    },
    {
     "name": "stdout",
     "output_type": "stream",
     "text": [
      "무승부\n"
     ]
    }
   ],
   "source": [
    "num1, num2 = map(int,input().split())\n",
    "\n",
    "if(num1 == num2):\n",
    "  print(\"무승부\")\n",
    "elif(num1 > 3 or num2 > 3 or num1 < 1 or num2 < 1):\n",
    "  print(\"잘못된입력\")\n",
    "elif((num1 == 1 and num2 == 3) or (num1 == 2 and num2 == 1) or (num1 == 3 and num2 == 2)):\n",
    "  print(\"A승B패\")\n",
    "else:\n",
    "  print(\"B승A패\")"
   ]
  },
  {
   "cell_type": "code",
   "execution_count": null,
   "id": "190cfc48-5517-4042-861e-9417ad85c1c5",
   "metadata": {},
   "outputs": [],
   "source": []
  }
 ],
 "metadata": {
  "kernelspec": {
   "display_name": "Python 3 (ipykernel)",
   "language": "python",
   "name": "python3"
  },
  "language_info": {
   "codemirror_mode": {
    "name": "ipython",
    "version": 3
   },
   "file_extension": ".py",
   "mimetype": "text/x-python",
   "name": "python",
   "nbconvert_exporter": "python",
   "pygments_lexer": "ipython3",
   "version": "3.12.6"
  }
 },
 "nbformat": 4,
 "nbformat_minor": 5
}
